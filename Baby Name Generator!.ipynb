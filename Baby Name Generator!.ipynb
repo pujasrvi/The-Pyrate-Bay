{
 "cells": [
  {
   "cell_type": "code",
   "execution_count": 2,
   "metadata": {},
   "outputs": [],
   "source": [
    "import random ,string\n",
    "\n",
    "letter = string.ascii_lowercase\n",
    "vowel = 'aeiou'\n",
    "consonants = 'bcdfghjklmnpqrstvwxyz'"
   ]
  },
  {
   "cell_type": "code",
   "execution_count": 3,
   "metadata": {},
   "outputs": [],
   "source": [
    "def generator():\n",
    "    #for letter input1\n",
    "    if letter1 == 'v':\n",
    "        letter_1 = random.choice(vowel)\n",
    "    elif letter1 == 'c':\n",
    "        letter_1 = random.choice(consonants)\n",
    "    elif letter1 == 'l':\n",
    "        letter_1 = random.choice(letter)\n",
    "    else:\n",
    "        letter_1 = letter1\n",
    "    \n",
    "        \n",
    "    #for letter input2\n",
    "    if letter2 == 'v':\n",
    "        letter_2 = random.choice(vowel)\n",
    "    elif letter2 == 'c':\n",
    "        letter_2 = random.choice(consonants)\n",
    "    elif letter2 == 'l':\n",
    "        letter_2 = random.choice(letter)\n",
    "    else:\n",
    "        letter_2 = letter2\n",
    "    \n",
    "    #for letter input3\n",
    "    if letter3 == 'v':\n",
    "        letter_3 = random.choice(vowel)\n",
    "    elif letter3 == 'c':\n",
    "        letter_3 = random.choice(consonants)\n",
    "    elif letter3 == 'l':\n",
    "        letter_3 = random.choice(letter)\n",
    "    else:\n",
    "        letter_3 = letter3\n",
    "        \n",
    "    #for letter input4\n",
    "    if letter4 == 'v':\n",
    "        letter_4 = random.choice(vowel)\n",
    "    elif letter4 == 'c':\n",
    "        letter_4 = random.choice(consonants)\n",
    "    elif letter4 == 'l':\n",
    "        letter_4 = random.choice(letter)\n",
    "    else:\n",
    "        letter_4 = letter4\n",
    "        \n",
    "    #for letter input5\n",
    "    if letter5 == 'v':\n",
    "        letter_5 = random.choice(vowel)\n",
    "    elif letter5 == 'c':\n",
    "        letter_5 = random.choice(consonants)\n",
    "    elif letter5 == 'l':\n",
    "        letter_5 = random.choice(letter)\n",
    "    else:\n",
    "        letter_5 = letter5\n",
    "    \n",
    "    name = letter_1+letter_2+letter_3+letter_4+letter_5\n",
    "    return name\n",
    "\n"
   ]
  },
  {
   "cell_type": "code",
   "execution_count": 4,
   "metadata": {},
   "outputs": [
    {
     "name": "stdout",
     "output_type": "stream",
     "text": [
      "Type 'v' for vowels; 'c' for consonants; 'l' for any letter  v\n",
      "Type 'v' for vowels; 'c' for consonants; 'l' for any letter  c\n",
      "Type 'v' for vowels; 'c' for consonants; 'l' for any letter  v\n",
      "Type 'v' for vowels; 'c' for consonants; 'l' for any letter  h\n",
      "Type 'v' for vowels; 'c' for consonants; 'l' for any letter  v\n",
      "ocehi\n"
     ]
    }
   ],
   "source": [
    "if __name__ == '__main__':\n",
    "    letter1 = input(\"Type 'v' for vowels; 'c' for consonants; 'l' for any letter  \")\n",
    "    letter2 = input(\"Type 'v' for vowels; 'c' for consonants; 'l' for any letter  \")\n",
    "    letter3 = input(\"Type 'v' for vowels; 'c' for consonants; 'l' for any letter  \")\n",
    "    letter4 = input(\"Type 'v' for vowels; 'c' for consonants; 'l' for any letter  \")\n",
    "    letter5 = input(\"Type 'v' for vowels; 'c' for consonants; 'l' for any letter  \")\n",
    "    \n",
    "    result = generator()\n",
    "    print(result)\n",
    "\n"
   ]
  },
  {
   "cell_type": "code",
   "execution_count": null,
   "metadata": {},
   "outputs": [],
   "source": []
  }
 ],
 "metadata": {
  "kernelspec": {
   "display_name": "Python 3",
   "language": "python",
   "name": "python3"
  },
  "language_info": {
   "codemirror_mode": {
    "name": "ipython",
    "version": 3
   },
   "file_extension": ".py",
   "mimetype": "text/x-python",
   "name": "python",
   "nbconvert_exporter": "python",
   "pygments_lexer": "ipython3",
   "version": "3.6.5"
  }
 },
 "nbformat": 4,
 "nbformat_minor": 2
}
